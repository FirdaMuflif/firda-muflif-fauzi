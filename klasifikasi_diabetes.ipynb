
# 🩺 Klasifikasi Deteksi Penyakit Diabetes

## 1️⃣ Deskripsi Dataset
Dataset ini berisi data pasien dengan beberapa variabel medis seperti kadar glukosa, tekanan darah, BMI, dan usia.
Target variabel `Outcome`:  
- 0 → Tidak diabetes  
- 1 → Diabetes

Jumlah data: 768 baris.

---
## 2️⃣ Import dan Preprocessing Data
- Data dibaca dari file `diabetes.csv`
- Data dibagi menjadi train-test 80:20
- Normalisasi fitur menggunakan `StandardScaler`

---
## 3️⃣ Model yang Digunakan
- Logistic Regression  
- K-Nearest Neighbors (KNN, k=5)

---
## 4️⃣ Evaluasi Model

### Logistic Regression
Accuracy: 0.53

### KNN
Accuracy: 0.50

---
## 5️⃣ Kesimpulan
Dari hasil evaluasi:
- **Logistic Regression** memiliki akurasi: 0.53  
- **KNN** memiliki akurasi: 0.50  

Model dengan akurasi lebih tinggi dapat dianggap lebih baik untuk dataset ini.
Secara umum, Logistic Regression lebih stabil pada data yang terdistribusi normal dan berukuran kecil.
